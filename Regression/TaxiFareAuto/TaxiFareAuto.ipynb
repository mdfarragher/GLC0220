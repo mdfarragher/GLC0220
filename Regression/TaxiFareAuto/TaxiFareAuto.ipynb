{
 "cells": [
  {
   "cell_type": "markdown",
   "metadata": {},
   "source": [
    "# Assignment: Automatically find the best model for the taxi dataset"
   ]
  },
  {
   "cell_type": "markdown",
   "metadata": {},
   "source": [
    "In this assignment you're going to build an app that can predict taxi fares in New York.\n",
    "\n",
    "You already did that in the first lesson in this course, but the twist this time is that you are going to let ML.NET automatically pick the best machine learning algorithm for you!\n",
    "\n",
    "## Get started\n",
    "\n",
    "To start please run the following code block to install the required NuGet packages:"
   ]
  },
  {
   "cell_type": "code",
   "execution_count": 1,
   "metadata": {},
   "outputs": [
    {
     "data": {
      "text/html": [
       "Installed package Microsoft.ML version 1.4.0"
      ]
     },
     "metadata": {},
     "output_type": "display_data"
    },
    {
     "data": {
      "text/html": [
       "Installed package Microsoft.ML.AutoML version 0.16.0"
      ]
     },
     "metadata": {},
     "output_type": "display_data"
    }
   ],
   "source": [
    "#r nuget:Microsoft.ML\n",
    "#r nuget:Microsoft.ML.AutoML"
   ]
  },
  {
   "cell_type": "markdown",
   "metadata": {},
   "source": [
    "Note the **AutoML** package, this is the ML.NET experimentation engine that can automatically discover the best machine learning algorithm for any given dataset. We're going to use AutoML in this assignment to discover the best possible learner to use.  \n",
    "\n",
    "We're ready to add code. Let's start with a bunch of using statements:"
   ]
  },
  {
   "cell_type": "code",
   "execution_count": 2,
   "metadata": {},
   "outputs": [],
   "source": [
    "using System;\n",
    "using System.IO;\n",
    "using Microsoft.ML;\n",
    "using Microsoft.ML.Data;\n",
    "using Microsoft.ML.AutoML;\n",
    "using XPlot.Plotly;"
   ]
  },
  {
   "cell_type": "markdown",
   "metadata": {},
   "source": [
    "Now we're ready to add classes. We’ll need one to hold a taxi trip, and one to hold your model predictions.\n",
    "\n",
    "Run the following code:"
   ]
  },
  {
   "cell_type": "code",
   "execution_count": 3,
   "metadata": {},
   "outputs": [],
   "source": [
    "public class TaxiTrip\n",
    "{\n",
    "    [LoadColumn(0)] public string VendorId;\n",
    "    [LoadColumn(5)] public string RateCode;\n",
    "    [LoadColumn(3)] public float PassengerCount;\n",
    "    [LoadColumn(4)] public float TripDistance;\n",
    "    [LoadColumn(9)] public string PaymentType;\n",
    "    [LoadColumn(10)] public float FareAmount;\n",
    "}\n",
    "\n",
    "public class TaxiTripFarePrediction\n",
    "{\n",
    "    [ColumnName(\"Score\")]\n",
    "    public float FareAmount;\n",
    "}"
   ]
  },
  {
   "cell_type": "markdown",
   "metadata": {},
   "source": [
    "The **TaxiTrip** class holds one single taxi trip. Note how each field is tagged with a **LoadColumn** attribute that tells the CSV data loading code which column to import data from.\n",
    "\n",
    "You're also declaring a **TaxiTripFarePrediction** class which will hold a single fare prediction.\n",
    "\n",
    "Now you need to load the training data in memory:"
   ]
  },
  {
   "cell_type": "code",
   "execution_count": 4,
   "metadata": {},
   "outputs": [
    {
     "name": "stdout",
     "output_type": "stream",
     "text": [
      "Loading training data....done\n"
     ]
    }
   ],
   "source": [
    "// file path to data file\n",
    "static readonly string dataPath = Path.Combine(Environment.CurrentDirectory, \"yellow_tripdata_2018-12_small.csv\");\n",
    "\n",
    "// create the machine learning context\n",
    "var context = new MLContext();\n",
    "\n",
    "// load the data \n",
    "Console.Write(\"Loading training data....\");\n",
    "var data = context.Data.LoadFromTextFile<TaxiTrip>(path: dataPath, hasHeader:true, separatorChar: ',');\n",
    "Console.WriteLine(\"done\");"
   ]
  },
  {
   "cell_type": "markdown",
   "metadata": {},
   "source": [
    "This code calls **LoadFromTextFile** to load the CSV data into memory. Note how the attributes in the **TaxiTrip** field tells the method how to load each CSV column in memory. \n",
    "\n",
    "Let's see what the data looks like. We're going to deserialize the training data into an enumeration of TaxiTrip instances and do a quick visual check of the data:"
   ]
  },
  {
   "cell_type": "code",
   "execution_count": 5,
   "metadata": {},
   "outputs": [
    {
     "data": {
      "text/html": [
       "<table><thead><tr><th><i>index</i></th><th>VendorId</th><th>RateCode</th><th>PassengerCount</th><th>TripDistance</th><th>PaymentType</th><th>FareAmount</th></tr></thead><tbody><tr><td>0</td><td>1</td><td>1</td><td>2</td><td>2.5</td><td>1</td><td>12</td></tr><tr><td>1</td><td>1</td><td>1</td><td>3</td><td>2.3</td><td>1</td><td>13</td></tr><tr><td>2</td><td>2</td><td>1</td><td>1</td><td>0</td><td>2</td><td>2.5</td></tr><tr><td>3</td><td>1</td><td>1</td><td>1</td><td>3.9</td><td>1</td><td>12.5</td></tr><tr><td>4</td><td>1</td><td>1</td><td>1</td><td>12.8</td><td>1</td><td>45</td></tr><tr><td>5</td><td>1</td><td>1</td><td>1</td><td>18.8</td><td>1</td><td>50.5</td></tr><tr><td>6</td><td>1</td><td>1</td><td>1</td><td>1</td><td>1</td><td>7.5</td></tr><tr><td>7</td><td>1</td><td>1</td><td>1</td><td>0.3</td><td>4</td><td>4</td></tr><tr><td>8</td><td>1</td><td>1</td><td>1</td><td>3.3</td><td>2</td><td>17.5</td></tr><tr><td>9</td><td>1</td><td>1</td><td>1</td><td>5.7</td><td>1</td><td>26.5</td></tr></tbody></table>"
      ]
     },
     "metadata": {},
     "output_type": "display_data"
    }
   ],
   "source": [
    "// get an array of taxi trips\n",
    "var trips = context.Data.CreateEnumerable<TaxiTrip>(data, reuseRowObject: false).ToArray();\n",
    "\n",
    "// display the result\n",
    "display(trips.Take(10));"
   ]
  },
  {
   "cell_type": "markdown",
   "metadata": {},
   "source": [
    "We are not going to clean the data any further. Instead, we're going to use the AutoML engine to automatically process the dataset, build the machine learning pipeline, and select the optimal learning algorithm to predict the taxi fares.\n",
    "\n",
    "## Automatically training the model\n",
    "\n",
    "Here's how to set up AutoML:"
   ]
  },
  {
   "cell_type": "code",
   "execution_count": 6,
   "metadata": {},
   "outputs": [
    {
     "name": "stdout",
     "output_type": "stream",
     "text": [
      "Automatically discovering best model...done\n"
     ]
    }
   ],
   "source": [
    "// automatically discover the optimal model\n",
    "var cutoff = 90; // <--- seconds\n",
    "Console.Write(\"Automatically discovering best model...\");\n",
    "var results = context.Auto()\n",
    "              .CreateRegressionExperiment((uint)cutoff)\n",
    "              .Execute(data, \"FareAmount\");\n",
    "Console.WriteLine(\"done\");"
   ]
  },
  {
   "cell_type": "markdown",
   "metadata": {},
   "source": [
    "The **Auto** method starts AutoML and the **CreateRegressionExperiment** sets up an experiment to find the best regression model. Finally, the **Execute** method starts the experiment, processes the training data, tries out several pipelines and learning algorithms to discover the best quality fare amount predictions, and finally returns a collection of best models it has discovered.\n",
    "\n",
    "Let's take a look at the top models discovered by the experiment:"
   ]
  },
  {
   "cell_type": "code",
   "execution_count": 7,
   "metadata": {},
   "outputs": [
    {
     "data": {
      "text/html": [
       "<table><thead><tr><th><i>index</i></th><th>Trainer</th><th>RMSE</th><th>MAE</th></tr></thead><tbody><tr><td>0</td><td>LightGbmRegression</td><td>3.2411236213028</td><td>1.5046073263005693</td></tr><tr><td>1</td><td>FastTreeRegression</td><td>3.3286016276223678</td><td>1.4387104523017327</td></tr><tr><td>2</td><td>LightGbmRegression</td><td>3.3307345513342077</td><td>1.462082858581309</td></tr><tr><td>3</td><td>LightGbmRegression</td><td>3.344453618649537</td><td>1.7371664287507995</td></tr><tr><td>4</td><td>FastTreeRegression</td><td>3.4329769703848827</td><td>1.437959974640971</td></tr><tr><td>5</td><td>FastTreeTweedieRegression</td><td>3.5703890691369815</td><td>1.4163964356813994</td></tr><tr><td>6</td><td>FastTreeRegression</td><td>3.5829041817448664</td><td>1.5312732305651584</td></tr><tr><td>7</td><td>SdcaRegression</td><td>3.58446707667788</td><td>1.7303408644830833</td></tr><tr><td>8</td><td>SdcaRegression</td><td>3.6524011741596123</td><td>1.8192336069493136</td></tr><tr><td>9</td><td>SdcaRegression</td><td>3.6549345544862426</td><td>1.8131337257070244</td></tr><tr><td>10</td><td>SdcaRegression</td><td>3.6575385166716132</td><td>1.750991626328452</td></tr><tr><td>11</td><td>FastTreeRegression</td><td>3.718862914352434</td><td>1.4994473395409522</td></tr><tr><td>12</td><td>SdcaRegression</td><td>3.7367084837259443</td><td>1.8590275957985347</td></tr><tr><td>13</td><td>FastTreeRegression</td><td>3.7814377588817183</td><td>1.4852764980419055</td></tr><tr><td>14</td><td>SdcaRegression</td><td>3.822841223949161</td><td>2.3478054332545053</td></tr><tr><td>15</td><td>LightGbmRegression</td><td>3.9454420926208504</td><td>1.656615542501121</td></tr><tr><td>16</td><td>LightGbmRegression</td><td>3.955311235154451</td><td>1.9111308408047618</td></tr><tr><td>17</td><td>FastTreeRegression</td><td>4.173628356024467</td><td>1.7169180005218567</td></tr><tr><td>18</td><td>FastForestRegression</td><td>4.277127487787596</td><td>2.3535166599953823</td></tr><tr><td>19</td><td>LightGbmRegression</td><td>4.96768437780344</td><td>2.6776366277043553</td></tr><tr><td>20</td><td>LightGbmRegression</td><td>5.144684867655757</td><td>2.3804483999538517</td></tr><tr><td>21</td><td>SdcaRegression</td><td>8.01891344020917</td><td>5.650207329372625</td></tr><tr><td>22</td><td>OnlineGradientDescentRegression</td><td>8.361735609063471</td><td>5.55005747986224</td></tr><tr><td>23</td><td>LbfgsPoissonRegression</td><td>99</td><td>&lt;null&gt;</td></tr><tr><td>24</td><td>OlsRegression</td><td>99</td><td>&lt;null&gt;</td></tr></tbody></table>"
      ]
     },
     "metadata": {},
     "output_type": "display_data"
    }
   ],
   "source": [
    "var models = from r in results.RunDetails \n",
    "             let rmse = r.ValidationMetrics?.RootMeanSquaredError ?? 99\n",
    "             orderby rmse ascending\n",
    "             select new \n",
    "             { \n",
    "                 Trainer = r.TrainerName, \n",
    "                 RMSE = rmse,\n",
    "                 MAE = r.ValidationMetrics?.MeanAbsoluteError \n",
    "             };\n",
    "display(models);"
   ]
  },
  {
   "cell_type": "markdown",
   "metadata": {},
   "source": [
    "## Making a prediction\n",
    "\n",
    "Let's wrap up by grabbing the top model and use it to make a prediction:"
   ]
  },
  {
   "cell_type": "code",
   "execution_count": 8,
   "metadata": {},
   "outputs": [
    {
     "name": "stdout",
     "output_type": "stream",
     "text": [
      "Single prediction:\n",
      "  Predicted fare: 15.6025\n"
     ]
    }
   ],
   "source": [
    "// save the best model from the experiment results\n",
    "var model = results.BestRun.Model;\n",
    "\n",
    "// create a prediction engine for one single prediction\n",
    "var engine = context.Model.CreatePredictionEngine<TaxiTrip, TaxiTripFarePrediction>(model);\n",
    "\n",
    "// prep a single taxi trip\n",
    "var taxiTripSample = new TaxiTrip()\n",
    "{\n",
    "    VendorId = \"2\",\n",
    "    RateCode = \"1\",\n",
    "    PassengerCount = 1,\n",
    "    TripDistance = 3.75f,\n",
    "    PaymentType = \"1\",\n",
    "    FareAmount = 0 // the model will predict the actual fare for this trip\n",
    "};\n",
    "\n",
    "// make the prediction\n",
    "var prediction = engine.Predict(taxiTripSample);\n",
    "\n",
    "// sho the prediction\n",
    "Console.WriteLine($\"Single prediction:\");\n",
    "Console.WriteLine($\"  Predicted fare: {prediction.FareAmount:0.####}\");"
   ]
  },
  {
   "cell_type": "markdown",
   "metadata": {},
   "source": [
    "You use the **CreatePredictionEngine** method to set up a prediction engine. The two type arguments are the input data class and the class to hold the prediction. And once the prediction engine is set up, you can simply call **Predict** to make a single prediction.\n",
    "\n",
    "As you can see, the model predicts that my taxi trip should cost around $15. \n",
    "\n",
    "## Further improvements\n",
    "\n",
    "Can you think of ways to improve the accuracy of the model predictions?"
   ]
  },
  {
   "cell_type": "code",
   "execution_count": null,
   "metadata": {},
   "outputs": [],
   "source": []
  }
 ],
 "metadata": {
  "kernelspec": {
   "display_name": ".NET (C#)",
   "language": "C#",
   "name": ".net-csharp"
  },
  "language_info": {
   "file_extension": ".cs",
   "mimetype": "text/x-csharp",
   "name": "C#",
   "pygments_lexer": "csharp",
   "version": "8.0"
  }
 },
 "nbformat": 4,
 "nbformat_minor": 4
}
